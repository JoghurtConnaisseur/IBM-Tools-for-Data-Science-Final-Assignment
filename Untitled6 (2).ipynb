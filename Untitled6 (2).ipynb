{
 "cells": [
  {
   "cell_type": "markdown",
   "id": "c36d28d0-8f8e-49ee-a327-b9c383602eac",
   "metadata": {},
   "source": [
    "# My Jupyter Notebook on IBM Watson Studio"
   ]
  },
  {
   "cell_type": "markdown",
   "id": "8c66fd13-7cf3-4768-8fc1-f991e553f7ef",
   "metadata": {},
   "source": [
    "**Luca Spoo**  \n",
    "Data Scientist"
   ]
  },
  {
   "cell_type": "markdown",
   "id": "d7f2912f-21d1-4cc5-b2bf-15a1f9eba8c5",
   "metadata": {},
   "source": [
    "*I am interested in data science because it aims to predict the future.*"
   ]
  },
  {
   "cell_type": "markdown",
   "id": "2fcc1a1d-ffae-47e8-8820-69ed70c3316b",
   "metadata": {},
   "source": [
    "### Printing all numbers from 1 to 5"
   ]
  },
  {
   "cell_type": "code",
   "execution_count": 3,
   "id": "a6bded46-6a1a-4fac-819a-d7fd771e640c",
   "metadata": {},
   "outputs": [
    {
     "name": "stdout",
     "output_type": "stream",
     "text": [
      "1\n",
      "2\n",
      "3\n",
      "4\n",
      "5\n"
     ]
    }
   ],
   "source": [
    "for number in range(1,6):\n",
    "    print(number)"
   ]
  },
  {
   "cell_type": "markdown",
   "id": "e8826711-3fdb-4274-90fc-428f2b76ece6",
   "metadata": {},
   "source": [
    "[Good Website](https://zoomquilt.org)\n",
    "<hr />  \n",
    "\n",
    "![Great Image](https://media.cnn.com/api/v1/images/stellar/prod/210316134817-03-wisdom-project-autumn.jpg?q=w_4000,h_2250,x_0,y_0,c_fill)"
   ]
  }
 ],
 "metadata": {
  "kernelspec": {
   "display_name": "Python 3",
   "language": "python",
   "name": "python3"
  },
  "language_info": {
   "codemirror_mode": {
    "name": "ipython",
    "version": 3
   },
   "file_extension": ".py",
   "mimetype": "text/x-python",
   "name": "python",
   "nbconvert_exporter": "python",
   "pygments_lexer": "ipython3",
   "version": "3.9.4"
  }
 },
 "nbformat": 4,
 "nbformat_minor": 5
}
